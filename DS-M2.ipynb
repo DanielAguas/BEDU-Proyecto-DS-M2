{
 "cells": [
  {
   "cell_type": "markdown",
   "id": "bacb9f5a-3516-4a7d-aac1-876fbfe6c312",
   "metadata": {},
   "source": [
    "### Leyendo CSV"
   ]
  },
  {
   "cell_type": "code",
   "execution_count": 7,
   "id": "414c8b93-294d-46f5-84cc-d5a4f6c35dc5",
   "metadata": {},
   "outputs": [
    {
     "name": "stderr",
     "output_type": "stream",
     "text": [
      "C:\\Users\\LA-JEFA\\AppData\\Local\\Temp\\ipykernel_6468\\1413155571.py:1: DeprecationWarning: \n",
      "Pyarrow will become a required dependency of pandas in the next major release of pandas (pandas 3.0),\n",
      "(to allow more performant data types, such as the Arrow string type, and better interoperability with other libraries)\n",
      "but was not found to be installed on your system.\n",
      "If this would cause problems for you,\n",
      "please provide us feedback at https://github.com/pandas-dev/pandas/issues/54466\n",
      "        \n",
      "  import pandas as pd\n"
     ]
    }
   ],
   "source": [
    "import pandas as pd\n",
    "import \n",
    "f = pd.read_csv('C:\\\\Users\\\\LA-JEFA\\\\Desktop\\\\DS-M2\\\\datasets\\\\car_sales.csv', sep=',')"
   ]
  },
  {
   "cell_type": "code",
   "execution_count": null,
   "id": "60e29505-daac-4889-a2dd-f844daecc0de",
   "metadata": {},
   "outputs": [],
   "source": []
  }
 ],
 "metadata": {
  "kernelspec": {
   "display_name": "Python 3 (ipykernel)",
   "language": "python",
   "name": "python3"
  },
  "language_info": {
   "codemirror_mode": {
    "name": "ipython",
    "version": 3
   },
   "file_extension": ".py",
   "mimetype": "text/x-python",
   "name": "python",
   "nbconvert_exporter": "python",
   "pygments_lexer": "ipython3",
   "version": "3.12.1"
  }
 },
 "nbformat": 4,
 "nbformat_minor": 5
}
