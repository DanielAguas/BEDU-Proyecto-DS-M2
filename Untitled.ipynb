{
 "cells": [
  {
   "cell_type": "markdown",
   "id": "7207db18-31c4-44de-9ff0-310c8007d21f",
   "metadata": {},
   "source": [
    "### Importar Modulos"
   ]
  },
  {
   "cell_type": "code",
   "execution_count": 5,
   "id": "36aabc2f-76cd-432e-a5cd-42f5990dc875",
   "metadata": {},
   "outputs": [],
   "source": [
    "import pandas as pd\n",
    "import seaborn as sns\n",
    "import matplotlib.pyplot as plt\n",
    "import plotly.express as px\n",
    "import requests"
   ]
  },
  {
   "cell_type": "markdown",
   "id": "def69876-4501-4d6d-9ff4-2f6b2bcf572f",
   "metadata": {},
   "source": [
    "### Leer archivo CSV"
   ]
  },
  {
   "cell_type": "code",
   "execution_count": 8,
   "id": "038b8d73-9bfd-4680-8c7e-38d4dca5de68",
   "metadata": {},
   "outputs": [
    {
     "data": {
      "text/plain": [
       "(23906, 16)"
      ]
     },
     "execution_count": 8,
     "metadata": {},
     "output_type": "execute_result"
    }
   ],
   "source": [
    "f = pd.read_csv('C:\\\\Users\\\\LA-JEFA\\\\Desktop\\\\DS-M2\\\\datasets\\\\car_sales.csv', sep=',')\n",
    "f.shape"
   ]
  },
  {
   "cell_type": "markdown",
   "id": "cb6d4576-3bb2-40c2-a795-718f86ca8a22",
   "metadata": {},
   "source": [
    "### Normalizar Nombres de Columnas"
   ]
  },
  {
   "cell_type": "code",
   "execution_count": null,
   "id": "909675e9-2ac9-4ffd-bddc-6b7300f5dcb7",
   "metadata": {},
   "outputs": [],
   "source": [
    "nombres_nuevos = {\n",
    "    'Car_id': 'ID_Carro',\n",
    "    'Date': 'Fecha',\n",
    "    'Customer Name': 'Nombre_Cliente',\n",
    "    'Gender': 'Género',\n",
    "    'Annual Income': 'Ingreso_Anual',\n",
    "    'Dealer_Name': 'Nombre_Concesionario',\n",
    "    'Company': 'Empresa',\n",
    "    'Model': 'Modelo',\n",
    "    'Engine': 'Motor',\n",
    "    'Transmission': 'Transmisión',\n",
    "    'Color': 'Color',\n",
    "    'Price ($)': 'Precio',\n",
    "    'Body Style': 'Estilo_Carro',\n",
    "    'Dealer_Region': 'Región_Concesionario'\n",
    "}\n",
    "\n",
    "# Renombrar las columnas\n",
    "f.rename(columns=nombres_nuevos, inplace=True)\n",
    "\n",
    "# Eliminar las columnas \"Dealer_No\" y \"Phone\"\n",
    "columnas_a_eliminar = ['No_Concesionario', 'Teléfono']\n",
    "f.drop(columnas_a_eliminar, axis=1, inplace=True)\n",
    "\n",
    "# Mostrar el DataFrame resultante con las columnas renombradas y eliminadas\n",
    "print(f)"
   ]
  }
 ],
 "metadata": {
  "kernelspec": {
   "display_name": "Python 3 (ipykernel)",
   "language": "python",
   "name": "python3"
  },
  "language_info": {
   "codemirror_mode": {
    "name": "ipython",
    "version": 3
   },
   "file_extension": ".py",
   "mimetype": "text/x-python",
   "name": "python",
   "nbconvert_exporter": "python",
   "pygments_lexer": "ipython3",
   "version": "3.12.1"
  }
 },
 "nbformat": 4,
 "nbformat_minor": 5
}
